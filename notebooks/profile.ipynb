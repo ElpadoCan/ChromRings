{
 "cells": [
  {
   "cell_type": "code",
   "execution_count": 8,
   "metadata": {},
   "outputs": [],
   "source": [
    "import os\n",
    "\n",
    "import numpy as np\n",
    "import skimage.io\n",
    "import skimage.measure\n",
    "\n",
    "from chromrings import data_path"
   ]
  },
  {
   "cell_type": "code",
   "execution_count": 6,
   "metadata": {},
   "outputs": [],
   "source": [
    "images_path = os.path.join(\n",
    "    data_path, '0_test_3D_Nada_24-11-2022', 'fed', 'Position_8', 'Images'\n",
    ")\n",
    "\n",
    "segm_filename = 'DCW153-fed -_s08_segm_fed.npz'\n",
    "image_filename = 'DCW153-fed -_s08_w1SDC488.tif'\n",
    "\n",
    "segm_filepath = os.path.join(images_path, segm_filename)\n",
    "image_filepath = os.path.join(images_path, image_filename)"
   ]
  },
  {
   "cell_type": "code",
   "execution_count": 7,
   "metadata": {},
   "outputs": [],
   "source": [
    "segm_data = np.load(segm_filepath)['arr_0']\n",
    "img_data = skimage.io.imread(image_filepath)"
   ]
  },
  {
   "cell_type": "code",
   "execution_count": 17,
   "metadata": {},
   "outputs": [],
   "source": [
    "%matplotlib qt\n",
    "\n",
    "from IPython.core.debugger import set_trace\n",
    "import matplotlib.pyplot as plt\n",
    "\n",
    "rp = skimage.measure.regionprops(segm_data, intensity_image=img_data)\n",
    "angle_range = (0, 360)\n",
    "for obj in rp:\n",
    "    zc, yc, xc = obj.weighted_centroid\n",
    "    # get center z-slice\n",
    "    x1, y1 = round(xc), round(yc)\n",
    "    zmin, ymin, xmin, zmax, ymax, xmax = obj.bbox\n",
    "    zc_local = zc-zmin\n",
    "    z_local = round(zc_local)\n",
    "    obj_z = obj.image[z_local]\n",
    "    d, h, w = zmax-zmin, ymax-ymin, xmax-xmin  \n",
    "    for angle in range(*angle_range):\n",
    "        if angle == 0:\n",
    "            half_w = int(w/2)+1\n",
    "            rr, cc = [y1]*half_w, list(range(x1, x1+half_w))\n",
    "            lab = segm_data[round(zc)].copy()\n",
    "            lab[lab != obj.label] == 0\n",
    "            plt.imshow(lab)\n",
    "            plt.plot(cc, rr, 'r.')\n",
    "            plt.show()\n",
    "        elif angle == 90:\n",
    "            half_h = int(h/2)+1\n",
    "            rr, cc = list(range(y1, y1+half_h)), [x1]*half_h\n",
    "        elif angle == 180:\n",
    "            half_w = int(w/2)\n",
    "            rr, cc = [y1]*(half_w+1), list(range(x1-half_w, x1+1))\n",
    "        elif angle == 270:\n",
    "            half_h = int(h/2)\n",
    "            rr, cc = list(range(y1-half_h, y1+1)), [x1]*(half_h+1)\n",
    "\n"
   ]
  }
 ],
 "metadata": {
  "kernelspec": {
   "display_name": "Python 3.10.7 ('acdc310')",
   "language": "python",
   "name": "python3"
  },
  "language_info": {
   "codemirror_mode": {
    "name": "ipython",
    "version": 3
   },
   "file_extension": ".py",
   "mimetype": "text/x-python",
   "name": "python",
   "nbconvert_exporter": "python",
   "pygments_lexer": "ipython3",
   "version": "3.10.7"
  },
  "orig_nbformat": 4,
  "vscode": {
   "interpreter": {
    "hash": "4ba3d0c9193a0216e5b08e5ccd6075a573da49c81b39b717b48897d8d142eb7e"
   }
  }
 },
 "nbformat": 4,
 "nbformat_minor": 2
}
